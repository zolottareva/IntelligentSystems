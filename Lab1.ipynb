{
  "nbformat": 4,
  "nbformat_minor": 0,
  "metadata": {
    "colab": {
      "provenance": []
    },
    "kernelspec": {
      "name": "python3",
      "display_name": "Python 3"
    },
    "language_info": {
      "name": "python"
    }
  },
  "cells": [
    {
      "cell_type": "code",
      "source": [
        "%%HTML\n",
        "<style>\n",
        "td {\n",
        "    border: 1px solid #333;\n",
        "    padding: 5px;\n",
        "}\n",
        "</style>\n",
        "<div style=\"display: flex; align-items: center; justify-content: center; flex-direction: column\">\n",
        "<h1 style=\"color: #00205b\"> Norway </h1>\n",
        "<h2 style=\"color: #ba0c2f\"\"><i>Oficially the Kingdom of Norway</i></h2>\n",
        "<svg width=\"110px\" height=\"80px\">\n",
        "\t<rect width=\"110\" height=\"80\" fill=\"#ba0c2f\"/>\n",
        "\t<path d=\"M0,40h110M40,0v80\" stroke=\"#fff\" stroke-width=\"20\"/>\n",
        "\t<path d=\"M0,40h110M40,0v80\" stroke=\"#00205b\" stroke-width=\"10\"/>\n",
        "</svg>\n",
        "</br>\n",
        "<table>\n",
        "    <thead>\n",
        "        <tr>\n",
        "            <th colspan=\"2\">Common data</th>\n",
        "        </tr>\n",
        "    </thead>\n",
        "    <tr>\n",
        "        <td>Capital</td>\n",
        "        <td>Oslo</td>\n",
        "    </tr>\n",
        "    <tr>\n",
        "        <td>Largest city</td>\n",
        "        <td>Oslo</td>\n",
        "    </tr>\n",
        "    <tr>\n",
        "        <td>Official languages</td>\n",
        "        <td>Norwegian, Sami</td>\n",
        "    </tr>\n",
        "    <tr>\n",
        "        <td>Goverment</td>\n",
        "        <td>Unitary parliamentary constitutional monarchy</td>\n",
        "    </tr>\n",
        "    <tr>\n",
        "        <td>Monarch</td>\n",
        "        <td>Harald V</td>\n",
        "    </tr>\n",
        "    <tr>\n",
        "        <td>Prime minister</td>\n",
        "        <td>Jonas Gahr Støre</td>\n",
        "    </tr>\n",
        "</table>\n",
        "\n",
        "<h2><b>Administartive division</b></h2>\n",
        "<img src='https://upload.wikimedia.org/wikipedia/commons/thumb/2/21/Nye_fylker_-_regjeringen.no.svg/275px-Nye_fylker_-_regjeringen.no.svg.png' width=\"200px\" height=\"200px\"/>\n",
        "<ul>\n",
        "    <l1><a href=\"https://en.wikipedia.org/wiki/Oslo\">Oslo</a></l1>\n",
        "    <l1><a href=\"https://en.wikipedia.org/wiki/Rogaland\">Rogaland</a></l1>\n",
        "    <l1><a href=\"https://en.wikipedia.org/wiki/Møre_og_Romsdal\">Møre og Romsdal</a></l1>\n",
        "    <l1><a href=\"https://en.wikipedia.org/wiki/Nordland\">Nordland</a></l1>\n",
        "\n",
        "    <l1><a href=\"https://en.wikipedia.org/wiki/Viken_(county)\">Viken</a></l1>\n",
        "    <l1><a href=\"https://en.wikipedia.org/wiki/Innlandet\">Innlandet</a></l1>\n",
        "    <l1><a href=\"https://en.wikipedia.org/wiki/Vestfold_og_Telemark\">Vestfold og Telemark</a></l1>\n",
        "\n",
        "    <l1><a href=\"https://en.wikipedia.org/wiki/Agder\">Agder</a></l1>\n",
        "    <l1><a href=\"https://en.wikipedia.org/wiki/Vestland\">Vestland</a></l1>\n",
        "    <l1><a href=\"https://en.wikipedia.org/wiki/Trøndelag\">Trøndelag</a></l1>\n",
        "    <l1><a href=\"https://en.wikipedia.org/wiki/Troms_og_Finnmark\">Troms og Finnmark</a></l1>\n",
        "</ul>\n",
        "</div>\n"
      ],
      "metadata": {
        "colab": {
          "base_uri": "https://localhost:8080/",
          "height": 704
        },
        "id": "LEKkomYz9eq_",
        "outputId": "05d35d35-667a-4f3d-9b39-d77f67cf86ec"
      },
      "execution_count": 66,
      "outputs": [
        {
          "output_type": "display_data",
          "data": {
            "text/plain": [
              "<IPython.core.display.HTML object>"
            ],
            "text/html": [
              "<style>\n",
              "td {\n",
              "    border: 1px solid #333;\n",
              "    padding: 5px;\n",
              "}\n",
              "</style>\n",
              "<div style=\"display: flex; align-items: center; justify-content: center; flex-direction: column\">\n",
              "<h1 style=\"color: #00205b\"> Norway </h1>\n",
              "<h2 style=\"color: #ba0c2f\"\"><i>Oficially the Kingdom of Norway</i></h2>\n",
              "<svg width=\"110px\" height=\"80px\">\n",
              "\t<rect width=\"110\" height=\"80\" fill=\"#ba0c2f\"/>\n",
              "\t<path d=\"M0,40h110M40,0v80\" stroke=\"#fff\" stroke-width=\"20\"/>\n",
              "\t<path d=\"M0,40h110M40,0v80\" stroke=\"#00205b\" stroke-width=\"10\"/>\n",
              "</svg>\n",
              "</br>\n",
              "<table>\n",
              "    <thead>\n",
              "        <tr>\n",
              "            <th colspan=\"2\">Common data</th>\n",
              "        </tr>\n",
              "    </thead>\n",
              "    <tr>\n",
              "        <td>Capital</td>\n",
              "        <td>Oslo</td>\n",
              "    </tr>\n",
              "    <tr>\n",
              "        <td>Largest city</td>\n",
              "        <td>Oslo</td>\n",
              "    </tr>\n",
              "    <tr>\n",
              "        <td>Official languages</td>\n",
              "        <td>Norwegian, Sami</td>\n",
              "    </tr>\n",
              "    <tr>\n",
              "        <td>Goverment</td>\n",
              "        <td>Unitary parliamentary constitutional monarchy</td>\n",
              "    </tr>\n",
              "    <tr>\n",
              "        <td>Monarch</td>\n",
              "        <td>Harald V</td>\n",
              "    </tr>\n",
              "    <tr>\n",
              "        <td>Prime minister</td>\n",
              "        <td>Jonas Gahr Støre</td>\n",
              "    </tr>\n",
              "</table>\n",
              "\n",
              "<h2><b>Administartive division</b></h2>\n",
              "<img src='https://upload.wikimedia.org/wikipedia/commons/thumb/2/21/Nye_fylker_-_regjeringen.no.svg/275px-Nye_fylker_-_regjeringen.no.svg.png' width=\"200px\" height=\"200px\"/>\n",
              "<ul>\n",
              "    <l1><a href=\"https://en.wikipedia.org/wiki/Oslo\">Oslo</a></l1>\n",
              "    <l1><a href=\"https://en.wikipedia.org/wiki/Rogaland\">Rogaland</a></l1>\n",
              "    <l1><a href=\"https://en.wikipedia.org/wiki/Møre_og_Romsdal\">Møre og Romsdal</a></l1>\n",
              "    <l1><a href=\"https://en.wikipedia.org/wiki/Nordland\">Nordland</a></l1>\n",
              "\n",
              "    <l1><a href=\"https://en.wikipedia.org/wiki/Viken_(county)\">Viken</a></l1>\n",
              "    <l1><a href=\"https://en.wikipedia.org/wiki/Innlandet\">Innlandet</a></l1>\n",
              "    <l1><a href=\"https://en.wikipedia.org/wiki/Vestfold_og_Telemark\">Vestfold og Telemark</a></l1>\n",
              "\n",
              "    <l1><a href=\"https://en.wikipedia.org/wiki/Agder\">Agder</a></l1>\n",
              "    <l1><a href=\"https://en.wikipedia.org/wiki/Vestland\">Vestland</a></l1>\n",
              "    <l1><a href=\"https://en.wikipedia.org/wiki/Trøndelag\">Trøndelag</a></l1>\n",
              "    <l1><a href=\"https://en.wikipedia.org/wiki/Troms_og_Finnmark\">Troms og Finnmark</a></l1>\n",
              "</ul>\n",
              "</div>\n"
            ]
          },
          "metadata": {}
        }
      ]
    },
    {
      "cell_type": "code",
      "source": [
        "def find_squares(number):\n",
        "  for a in range(int((number / 2) ** 0.5) + 1):\n",
        "    if (b := ((number - a ** 2) ** 0.5)) % 1 == 0:\n",
        "      return a, int(b)\n",
        "  return None\n",
        "\n",
        "def task_10():\n",
        "  number = input('Enter number:')\n",
        "  try:\n",
        "    number = int(number)\n",
        "  except ValueError:\n",
        "    raise ValueError('Expected number')\n",
        "  assert number > 0, 'Expected positive natural number'\n",
        "  result = find_squares(number)\n",
        "  if result is None:\n",
        "    return f'{number} is not sum of two squares'\n",
        "  a, b = result\n",
        "  return f'{a}^2 + {b}^2 = {number}'"
      ],
      "metadata": {
        "id": "0avYfvnr-NrT"
      },
      "execution_count": 62,
      "outputs": []
    },
    {
      "cell_type": "code",
      "source": [
        "task_10()"
      ],
      "metadata": {
        "colab": {
          "base_uri": "https://localhost:8080/",
          "height": 443
        },
        "id": "4aTpMFV6FwWl",
        "outputId": "209b6ec3-5ebd-4efb-f881-cfe66f49621b"
      },
      "execution_count": 70,
      "outputs": [
        {
          "name": "stdout",
          "output_type": "stream",
          "text": [
            "Enter number:jvbhegriwkjdla\n"
          ]
        },
        {
          "output_type": "error",
          "ename": "ValueError",
          "evalue": "ignored",
          "traceback": [
            "\u001b[0;31m---------------------------------------------------------------------------\u001b[0m",
            "\u001b[0;31mValueError\u001b[0m                                Traceback (most recent call last)",
            "\u001b[0;32m<ipython-input-62-ae829a6bd646>\u001b[0m in \u001b[0;36mtask_10\u001b[0;34m()\u001b[0m\n\u001b[1;32m      9\u001b[0m   \u001b[0;32mtry\u001b[0m\u001b[0;34m:\u001b[0m\u001b[0;34m\u001b[0m\u001b[0;34m\u001b[0m\u001b[0m\n\u001b[0;32m---> 10\u001b[0;31m     \u001b[0mnumber\u001b[0m \u001b[0;34m=\u001b[0m \u001b[0mint\u001b[0m\u001b[0;34m(\u001b[0m\u001b[0mnumber\u001b[0m\u001b[0;34m)\u001b[0m\u001b[0;34m\u001b[0m\u001b[0;34m\u001b[0m\u001b[0m\n\u001b[0m\u001b[1;32m     11\u001b[0m   \u001b[0;32mexcept\u001b[0m \u001b[0mValueError\u001b[0m\u001b[0;34m:\u001b[0m\u001b[0;34m\u001b[0m\u001b[0;34m\u001b[0m\u001b[0m\n",
            "\u001b[0;31mValueError\u001b[0m: invalid literal for int() with base 10: 'jvbhegriwkjdla'",
            "\nDuring handling of the above exception, another exception occurred:\n",
            "\u001b[0;31mValueError\u001b[0m                                Traceback (most recent call last)",
            "\u001b[0;32m<ipython-input-70-80396a0e1a76>\u001b[0m in \u001b[0;36m<module>\u001b[0;34m\u001b[0m\n\u001b[0;32m----> 1\u001b[0;31m \u001b[0mtask_10\u001b[0m\u001b[0;34m(\u001b[0m\u001b[0;34m)\u001b[0m\u001b[0;34m\u001b[0m\u001b[0;34m\u001b[0m\u001b[0m\n\u001b[0m",
            "\u001b[0;32m<ipython-input-62-ae829a6bd646>\u001b[0m in \u001b[0;36mtask_10\u001b[0;34m()\u001b[0m\n\u001b[1;32m     10\u001b[0m     \u001b[0mnumber\u001b[0m \u001b[0;34m=\u001b[0m \u001b[0mint\u001b[0m\u001b[0;34m(\u001b[0m\u001b[0mnumber\u001b[0m\u001b[0;34m)\u001b[0m\u001b[0;34m\u001b[0m\u001b[0;34m\u001b[0m\u001b[0m\n\u001b[1;32m     11\u001b[0m   \u001b[0;32mexcept\u001b[0m \u001b[0mValueError\u001b[0m\u001b[0;34m:\u001b[0m\u001b[0;34m\u001b[0m\u001b[0;34m\u001b[0m\u001b[0m\n\u001b[0;32m---> 12\u001b[0;31m     \u001b[0;32mraise\u001b[0m \u001b[0mValueError\u001b[0m\u001b[0;34m(\u001b[0m\u001b[0;34m'Expected number'\u001b[0m\u001b[0;34m)\u001b[0m\u001b[0;34m\u001b[0m\u001b[0;34m\u001b[0m\u001b[0m\n\u001b[0m\u001b[1;32m     13\u001b[0m   \u001b[0;32massert\u001b[0m \u001b[0mnumber\u001b[0m \u001b[0;34m>\u001b[0m \u001b[0;36m0\u001b[0m\u001b[0;34m,\u001b[0m \u001b[0;34m'Expected positive natural number'\u001b[0m\u001b[0;34m\u001b[0m\u001b[0;34m\u001b[0m\u001b[0m\n\u001b[1;32m     14\u001b[0m   \u001b[0mresult\u001b[0m \u001b[0;34m=\u001b[0m \u001b[0mfind_squares\u001b[0m\u001b[0;34m(\u001b[0m\u001b[0mnumber\u001b[0m\u001b[0;34m)\u001b[0m\u001b[0;34m\u001b[0m\u001b[0;34m\u001b[0m\u001b[0m\n",
            "\u001b[0;31mValueError\u001b[0m: Expected number"
          ]
        }
      ]
    },
    {
      "cell_type": "code",
      "source": [],
      "metadata": {
        "id": "TGwGq2sSGKRv"
      },
      "execution_count": 63,
      "outputs": []
    }
  ]
}