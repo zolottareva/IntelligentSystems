{
  "nbformat": 4,
  "nbformat_minor": 0,
  "metadata": {
    "colab": {
      "provenance": []
    },
    "kernelspec": {
      "name": "python3",
      "display_name": "Python 3"
    },
    "language_info": {
      "name": "python"
    }
  },
  "cells": [
    {
      "cell_type": "code",
      "execution_count": 3,
      "metadata": {
        "colab": {
          "base_uri": "https://localhost:8080/"
        },
        "id": "RkapEQVfrJpt",
        "outputId": "a4149ae5-4423-4219-ae02-a30ab7b990ca"
      },
      "outputs": [
        {
          "output_type": "stream",
          "name": "stdout",
          "text": [
            "Archive:  StudentPerfDataset.zip\n",
            "  inflating: StudentsPerformance.csv  \n"
          ]
        }
      ],
      "source": [
        "!unzip StudentPerfDataset.zip"
      ]
    },
    {
      "cell_type": "code",
      "source": [
        "import pandas as pd\n",
        "from sklearn.tree import DecisionTreeClassifier\n",
        "from sklearn.model_selection import train_test_split\n",
        "from pandas.plotting import scatter_matrix\n",
        "from sklearn.pipeline import Pipeline\n",
        "from sklearn.preprocessing import StandardScaler, OneHotEncoder\n",
        "from sklearn.compose import ColumnTransformer\n",
        "from sklearn.metrics import mean_squared_error\n",
        "from sklearn.impute import SimpleImputer"
      ],
      "metadata": {
        "id": "jE57UjgwrMSq"
      },
      "execution_count": 4,
      "outputs": []
    },
    {
      "cell_type": "code",
      "source": [
        "df = pd.read_csv('StudentsPerformance.csv')\n",
        "df"
      ],
      "metadata": {
        "colab": {
          "base_uri": "https://localhost:8080/",
          "height": 424
        },
        "id": "KTlyLmppvInX",
        "outputId": "38fbc205-8dc7-4b6c-b265-e51cb338a7ad"
      },
      "execution_count": 8,
      "outputs": [
        {
          "output_type": "execute_result",
          "data": {
            "text/plain": [
              "     gender race/ethnicity parental level of education         lunch  \\\n",
              "0    female        group B           bachelor's degree      standard   \n",
              "1    female        group C                some college      standard   \n",
              "2    female        group B             master's degree      standard   \n",
              "3      male        group A          associate's degree  free/reduced   \n",
              "4      male        group C                some college      standard   \n",
              "..      ...            ...                         ...           ...   \n",
              "995  female        group E             master's degree      standard   \n",
              "996    male        group C                 high school  free/reduced   \n",
              "997  female        group C                 high school  free/reduced   \n",
              "998  female        group D                some college      standard   \n",
              "999  female        group D                some college  free/reduced   \n",
              "\n",
              "    test preparation course  math score  reading score  writing score  \n",
              "0                      none          72             72             74  \n",
              "1                 completed          69             90             88  \n",
              "2                      none          90             95             93  \n",
              "3                      none          47             57             44  \n",
              "4                      none          76             78             75  \n",
              "..                      ...         ...            ...            ...  \n",
              "995               completed          88             99             95  \n",
              "996                    none          62             55             55  \n",
              "997               completed          59             71             65  \n",
              "998               completed          68             78             77  \n",
              "999                    none          77             86             86  \n",
              "\n",
              "[1000 rows x 8 columns]"
            ],
            "text/html": [
              "\n",
              "  <div id=\"df-f42a1b90-6301-4157-adf5-e0e9de79b846\">\n",
              "    <div class=\"colab-df-container\">\n",
              "      <div>\n",
              "<style scoped>\n",
              "    .dataframe tbody tr th:only-of-type {\n",
              "        vertical-align: middle;\n",
              "    }\n",
              "\n",
              "    .dataframe tbody tr th {\n",
              "        vertical-align: top;\n",
              "    }\n",
              "\n",
              "    .dataframe thead th {\n",
              "        text-align: right;\n",
              "    }\n",
              "</style>\n",
              "<table border=\"1\" class=\"dataframe\">\n",
              "  <thead>\n",
              "    <tr style=\"text-align: right;\">\n",
              "      <th></th>\n",
              "      <th>gender</th>\n",
              "      <th>race/ethnicity</th>\n",
              "      <th>parental level of education</th>\n",
              "      <th>lunch</th>\n",
              "      <th>test preparation course</th>\n",
              "      <th>math score</th>\n",
              "      <th>reading score</th>\n",
              "      <th>writing score</th>\n",
              "    </tr>\n",
              "  </thead>\n",
              "  <tbody>\n",
              "    <tr>\n",
              "      <th>0</th>\n",
              "      <td>female</td>\n",
              "      <td>group B</td>\n",
              "      <td>bachelor's degree</td>\n",
              "      <td>standard</td>\n",
              "      <td>none</td>\n",
              "      <td>72</td>\n",
              "      <td>72</td>\n",
              "      <td>74</td>\n",
              "    </tr>\n",
              "    <tr>\n",
              "      <th>1</th>\n",
              "      <td>female</td>\n",
              "      <td>group C</td>\n",
              "      <td>some college</td>\n",
              "      <td>standard</td>\n",
              "      <td>completed</td>\n",
              "      <td>69</td>\n",
              "      <td>90</td>\n",
              "      <td>88</td>\n",
              "    </tr>\n",
              "    <tr>\n",
              "      <th>2</th>\n",
              "      <td>female</td>\n",
              "      <td>group B</td>\n",
              "      <td>master's degree</td>\n",
              "      <td>standard</td>\n",
              "      <td>none</td>\n",
              "      <td>90</td>\n",
              "      <td>95</td>\n",
              "      <td>93</td>\n",
              "    </tr>\n",
              "    <tr>\n",
              "      <th>3</th>\n",
              "      <td>male</td>\n",
              "      <td>group A</td>\n",
              "      <td>associate's degree</td>\n",
              "      <td>free/reduced</td>\n",
              "      <td>none</td>\n",
              "      <td>47</td>\n",
              "      <td>57</td>\n",
              "      <td>44</td>\n",
              "    </tr>\n",
              "    <tr>\n",
              "      <th>4</th>\n",
              "      <td>male</td>\n",
              "      <td>group C</td>\n",
              "      <td>some college</td>\n",
              "      <td>standard</td>\n",
              "      <td>none</td>\n",
              "      <td>76</td>\n",
              "      <td>78</td>\n",
              "      <td>75</td>\n",
              "    </tr>\n",
              "    <tr>\n",
              "      <th>...</th>\n",
              "      <td>...</td>\n",
              "      <td>...</td>\n",
              "      <td>...</td>\n",
              "      <td>...</td>\n",
              "      <td>...</td>\n",
              "      <td>...</td>\n",
              "      <td>...</td>\n",
              "      <td>...</td>\n",
              "    </tr>\n",
              "    <tr>\n",
              "      <th>995</th>\n",
              "      <td>female</td>\n",
              "      <td>group E</td>\n",
              "      <td>master's degree</td>\n",
              "      <td>standard</td>\n",
              "      <td>completed</td>\n",
              "      <td>88</td>\n",
              "      <td>99</td>\n",
              "      <td>95</td>\n",
              "    </tr>\n",
              "    <tr>\n",
              "      <th>996</th>\n",
              "      <td>male</td>\n",
              "      <td>group C</td>\n",
              "      <td>high school</td>\n",
              "      <td>free/reduced</td>\n",
              "      <td>none</td>\n",
              "      <td>62</td>\n",
              "      <td>55</td>\n",
              "      <td>55</td>\n",
              "    </tr>\n",
              "    <tr>\n",
              "      <th>997</th>\n",
              "      <td>female</td>\n",
              "      <td>group C</td>\n",
              "      <td>high school</td>\n",
              "      <td>free/reduced</td>\n",
              "      <td>completed</td>\n",
              "      <td>59</td>\n",
              "      <td>71</td>\n",
              "      <td>65</td>\n",
              "    </tr>\n",
              "    <tr>\n",
              "      <th>998</th>\n",
              "      <td>female</td>\n",
              "      <td>group D</td>\n",
              "      <td>some college</td>\n",
              "      <td>standard</td>\n",
              "      <td>completed</td>\n",
              "      <td>68</td>\n",
              "      <td>78</td>\n",
              "      <td>77</td>\n",
              "    </tr>\n",
              "    <tr>\n",
              "      <th>999</th>\n",
              "      <td>female</td>\n",
              "      <td>group D</td>\n",
              "      <td>some college</td>\n",
              "      <td>free/reduced</td>\n",
              "      <td>none</td>\n",
              "      <td>77</td>\n",
              "      <td>86</td>\n",
              "      <td>86</td>\n",
              "    </tr>\n",
              "  </tbody>\n",
              "</table>\n",
              "<p>1000 rows × 8 columns</p>\n",
              "</div>\n",
              "      <button class=\"colab-df-convert\" onclick=\"convertToInteractive('df-f42a1b90-6301-4157-adf5-e0e9de79b846')\"\n",
              "              title=\"Convert this dataframe to an interactive table.\"\n",
              "              style=\"display:none;\">\n",
              "        \n",
              "  <svg xmlns=\"http://www.w3.org/2000/svg\" height=\"24px\"viewBox=\"0 0 24 24\"\n",
              "       width=\"24px\">\n",
              "    <path d=\"M0 0h24v24H0V0z\" fill=\"none\"/>\n",
              "    <path d=\"M18.56 5.44l.94 2.06.94-2.06 2.06-.94-2.06-.94-.94-2.06-.94 2.06-2.06.94zm-11 1L8.5 8.5l.94-2.06 2.06-.94-2.06-.94L8.5 2.5l-.94 2.06-2.06.94zm10 10l.94 2.06.94-2.06 2.06-.94-2.06-.94-.94-2.06-.94 2.06-2.06.94z\"/><path d=\"M17.41 7.96l-1.37-1.37c-.4-.4-.92-.59-1.43-.59-.52 0-1.04.2-1.43.59L10.3 9.45l-7.72 7.72c-.78.78-.78 2.05 0 2.83L4 21.41c.39.39.9.59 1.41.59.51 0 1.02-.2 1.41-.59l7.78-7.78 2.81-2.81c.8-.78.8-2.07 0-2.86zM5.41 20L4 18.59l7.72-7.72 1.47 1.35L5.41 20z\"/>\n",
              "  </svg>\n",
              "      </button>\n",
              "      \n",
              "  <style>\n",
              "    .colab-df-container {\n",
              "      display:flex;\n",
              "      flex-wrap:wrap;\n",
              "      gap: 12px;\n",
              "    }\n",
              "\n",
              "    .colab-df-convert {\n",
              "      background-color: #E8F0FE;\n",
              "      border: none;\n",
              "      border-radius: 50%;\n",
              "      cursor: pointer;\n",
              "      display: none;\n",
              "      fill: #1967D2;\n",
              "      height: 32px;\n",
              "      padding: 0 0 0 0;\n",
              "      width: 32px;\n",
              "    }\n",
              "\n",
              "    .colab-df-convert:hover {\n",
              "      background-color: #E2EBFA;\n",
              "      box-shadow: 0px 1px 2px rgba(60, 64, 67, 0.3), 0px 1px 3px 1px rgba(60, 64, 67, 0.15);\n",
              "      fill: #174EA6;\n",
              "    }\n",
              "\n",
              "    [theme=dark] .colab-df-convert {\n",
              "      background-color: #3B4455;\n",
              "      fill: #D2E3FC;\n",
              "    }\n",
              "\n",
              "    [theme=dark] .colab-df-convert:hover {\n",
              "      background-color: #434B5C;\n",
              "      box-shadow: 0px 1px 3px 1px rgba(0, 0, 0, 0.15);\n",
              "      filter: drop-shadow(0px 1px 2px rgba(0, 0, 0, 0.3));\n",
              "      fill: #FFFFFF;\n",
              "    }\n",
              "  </style>\n",
              "\n",
              "      <script>\n",
              "        const buttonEl =\n",
              "          document.querySelector('#df-f42a1b90-6301-4157-adf5-e0e9de79b846 button.colab-df-convert');\n",
              "        buttonEl.style.display =\n",
              "          google.colab.kernel.accessAllowed ? 'block' : 'none';\n",
              "\n",
              "        async function convertToInteractive(key) {\n",
              "          const element = document.querySelector('#df-f42a1b90-6301-4157-adf5-e0e9de79b846');\n",
              "          const dataTable =\n",
              "            await google.colab.kernel.invokeFunction('convertToInteractive',\n",
              "                                                     [key], {});\n",
              "          if (!dataTable) return;\n",
              "\n",
              "          const docLinkHtml = 'Like what you see? Visit the ' +\n",
              "            '<a target=\"_blank\" href=https://colab.research.google.com/notebooks/data_table.ipynb>data table notebook</a>'\n",
              "            + ' to learn more about interactive tables.';\n",
              "          element.innerHTML = '';\n",
              "          dataTable['output_type'] = 'display_data';\n",
              "          await google.colab.output.renderOutput(dataTable, element);\n",
              "          const docLink = document.createElement('div');\n",
              "          docLink.innerHTML = docLinkHtml;\n",
              "          element.appendChild(docLink);\n",
              "        }\n",
              "      </script>\n",
              "    </div>\n",
              "  </div>\n",
              "  "
            ]
          },
          "metadata": {},
          "execution_count": 8
        }
      ]
    },
    {
      "cell_type": "code",
      "source": [
        "scatter_matrix(df)"
      ],
      "metadata": {
        "colab": {
          "base_uri": "https://localhost:8080/",
          "height": 636
        },
        "id": "LP9eYw19vy68",
        "outputId": "e0427e26-6b25-45c1-f060-cd38f2c96f94"
      },
      "execution_count": 9,
      "outputs": [
        {
          "output_type": "execute_result",
          "data": {
            "text/plain": [
              "array([[<Axes: xlabel='math score', ylabel='math score'>,\n",
              "        <Axes: xlabel='reading score', ylabel='math score'>,\n",
              "        <Axes: xlabel='writing score', ylabel='math score'>],\n",
              "       [<Axes: xlabel='math score', ylabel='reading score'>,\n",
              "        <Axes: xlabel='reading score', ylabel='reading score'>,\n",
              "        <Axes: xlabel='writing score', ylabel='reading score'>],\n",
              "       [<Axes: xlabel='math score', ylabel='writing score'>,\n",
              "        <Axes: xlabel='reading score', ylabel='writing score'>,\n",
              "        <Axes: xlabel='writing score', ylabel='writing score'>]],\n",
              "      dtype=object)"
            ]
          },
          "metadata": {},
          "execution_count": 9
        },
        {
          "output_type": "display_data",
          "data": {
            "text/plain": [
              "<Figure size 640x480 with 9 Axes>"
            ],
            "image/png": "[encoded data removed]"
          },
          "metadata": {}
        }
      ]
    },
    {
      "cell_type": "markdown",
      "source": [],
      "metadata": {
        "id": "Oo8Ggexa6t2w"
      }
    },
    {
      "cell_type": "code",
      "source": [
        "\n",
        "num_features = ['math score', 'reading score']\n",
        "cat_features = ['gender', 'race/ethnicity', 'parental level of education', 'lunch', 'test preparation course']\n",
        "\n"
      ],
      "metadata": {
        "id": "mF5coiuJwtwt"
      },
      "execution_count": 10,
      "outputs": []
    },
    {
      "cell_type": "code",
      "source": [
        "train_df, test_df = train_test_split(df, test_size=0.2)"
      ],
      "metadata": {
        "id": "hBQjO2hH2gD1"
      },
      "execution_count": 11,
      "outputs": []
    },
    {
      "cell_type": "code",
      "source": [
        "num_pipeline = Pipeline([\n",
        "    ('imputer', SimpleImputer(strategy=\"median\")),\n",
        "    #('scaler', StandardScaler()),\n",
        "])\n",
        "\n",
        "pipeline = ColumnTransformer([\n",
        "    (\"num\", num_pipeline, num_features),\n",
        "    (\"cat\", OneHotEncoder(), cat_features)\n",
        "])\n",
        "\n",
        "score_transform = Pipeline([('pass', 'passthrough')])\n",
        "\n",
        "X_train = pipeline.fit_transform(train_df)\n",
        "Y_train = score_transform.fit_transform(train_df[['writing score']])\n",
        "\n",
        "X_test = pipeline.transform(test_df)\n",
        "Y_test = score_transform.transform(test_df[['writing score']])\n"
      ],
      "metadata": {
        "id": "6-sOmK8uxMKZ"
      },
      "execution_count": 25,
      "outputs": []
    },
    {
      "cell_type": "code",
      "source": [
        "X_train, Y_train"
      ],
      "metadata": {
        "id": "TAW9rv3c7IVz",
        "colab": {
          "base_uri": "https://localhost:8080/"
        },
        "outputId": "33a8eb3d-ffca-4ac2-a226-4e85ba586de9"
      },
      "execution_count": 27,
      "outputs": [
        {
          "output_type": "execute_result",
          "data": {
            "text/plain": [
              "(array([[59., 71.,  1., ...,  1.,  0.,  1.],\n",
              "        [56., 65.,  1., ...,  0.,  0.,  1.],\n",
              "        [60., 68.,  0., ...,  1.,  0.,  1.],\n",
              "        ...,\n",
              "        [38., 60.,  1., ...,  0.,  0.,  1.],\n",
              "        [72., 64.,  0., ...,  1.,  0.,  1.],\n",
              "        [65., 78.,  1., ...,  1.,  1.,  0.]]),\n",
              "      writing score\n",
              " 354             70\n",
              " 319             63\n",
              " 681             60\n",
              " 375             41\n",
              " 392             67\n",
              " ..             ...\n",
              " 695             86\n",
              " 741             56\n",
              " 9               50\n",
              " 83              63\n",
              " 899             82\n",
              " \n",
              " [800 rows x 1 columns])"
            ]
          },
          "metadata": {},
          "execution_count": 27
        }
      ]
    },
    {
      "cell_type": "code",
      "source": [
        "model = DecisionTreeClassifier()\n",
        "model.fit(X_train, Y_train)"
      ],
      "metadata": {
        "colab": {
          "base_uri": "https://localhost:8080/",
          "height": 75
        },
        "id": "whcTJl2B1FTO",
        "outputId": "0b04af1c-4e04-493f-f3bf-24eab6d888b9"
      },
      "execution_count": 32,
      "outputs": [
        {
          "output_type": "execute_result",
          "data": {
            "text/plain": [
              "DecisionTreeClassifier()"
            ],
            "text/html": [
              "<style>#sk-container-id-2 {color: black;background-color: white;}#sk-container-id-2 pre{padding: 0;}#sk-container-id-2 div.sk-toggleable {background-color: white;}#sk-container-id-2 label.sk-toggleable__label {cursor: pointer;display: block;width: 100%;margin-bottom: 0;padding: 0.3em;box-sizing: border-box;text-align: center;}#sk-container-id-2 label.sk-toggleable__label-arrow:before {content: \"▸\";float: left;margin-right: 0.25em;color: #696969;}#sk-container-id-2 label.sk-toggleable__label-arrow:hover:before {color: black;}#sk-container-id-2 div.sk-estimator:hover label.sk-toggleable__label-arrow:before {color: black;}#sk-container-id-2 div.sk-toggleable__content {max-height: 0;max-width: 0;overflow: hidden;text-align: left;background-color: #f0f8ff;}#sk-container-id-2 div.sk-toggleable__content pre {margin: 0.2em;color: black;border-radius: 0.25em;background-color: #f0f8ff;}#sk-container-id-2 input.sk-toggleable__control:checked~div.sk-toggleable__content {max-height: 200px;max-width: 100%;overflow: auto;}#sk-container-id-2 input.sk-toggleable__control:checked~label.sk-toggleable__label-arrow:before {content: \"▾\";}#sk-container-id-2 div.sk-estimator input.sk-toggleable__control:checked~label.sk-toggleable__label {background-color: #d4ebff;}#sk-container-id-2 div.sk-label input.sk-toggleable__control:checked~label.sk-toggleable__label {background-color: #d4ebff;}#sk-container-id-2 input.sk-hidden--visually {border: 0;clip: rect(1px 1px 1px 1px);clip: rect(1px, 1px, 1px, 1px);height: 1px;margin: -1px;overflow: hidden;padding: 0;position: absolute;width: 1px;}#sk-container-id-2 div.sk-estimator {font-family: monospace;background-color: #f0f8ff;border: 1px dotted black;border-radius: 0.25em;box-sizing: border-box;margin-bottom: 0.5em;}#sk-container-id-2 div.sk-estimator:hover {background-color: #d4ebff;}#sk-container-id-2 div.sk-parallel-item::after {content: \"\";width: 100%;border-bottom: 1px solid gray;flex-grow: 1;}#sk-container-id-2 div.sk-label:hover label.sk-toggleable__label {background-color: #d4ebff;}#sk-container-id-2 div.sk-serial::before {content: \"\";position: absolute;border-left: 1px solid gray;box-sizing: border-box;top: 0;bottom: 0;left: 50%;z-index: 0;}#sk-container-id-2 div.sk-serial {display: flex;flex-direction: column;align-items: center;background-color: white;padding-right: 0.2em;padding-left: 0.2em;position: relative;}#sk-container-id-2 div.sk-item {position: relative;z-index: 1;}#sk-container-id-2 div.sk-parallel {display: flex;align-items: stretch;justify-content: center;background-color: white;position: relative;}#sk-container-id-2 div.sk-item::before, #sk-container-id-2 div.sk-parallel-item::before {content: \"\";position: absolute;border-left: 1px solid gray;box-sizing: border-box;top: 0;bottom: 0;left: 50%;z-index: -1;}#sk-container-id-2 div.sk-parallel-item {display: flex;flex-direction: column;z-index: 1;position: relative;background-color: white;}#sk-container-id-2 div.sk-parallel-item:first-child::after {align-self: flex-end;width: 50%;}#sk-container-id-2 div.sk-parallel-item:last-child::after {align-self: flex-start;width: 50%;}#sk-container-id-2 div.sk-parallel-item:only-child::after {width: 0;}#sk-container-id-2 div.sk-dashed-wrapped {border: 1px dashed gray;margin: 0 0.4em 0.5em 0.4em;box-sizing: border-box;padding-bottom: 0.4em;background-color: white;}#sk-container-id-2 div.sk-label label {font-family: monospace;font-weight: bold;display: inline-block;line-height: 1.2em;}#sk-container-id-2 div.sk-label-container {text-align: center;}#sk-container-id-2 div.sk-container {/* jupyter's `normalize.less` sets `[hidden] { display: none; }` but bootstrap.min.css set `[hidden] { display: none !important; }` so we also need the `!important` here to be able to override the default hidden behavior on the sphinx rendered scikit-learn.org. See: https://github.com/scikit-learn/scikit-learn/issues/21755 */display: inline-block !important;position: relative;}#sk-container-id-2 div.sk-text-repr-fallback {display: none;}</style><div id=\"sk-container-id-2\" class=\"sk-top-container\"><div class=\"sk-text-repr-fallback\"><pre>DecisionTreeClassifier()</pre><b>In a Jupyter environment, please rerun this cell to show the HTML representation or trust the notebook. <br />On GitHub, the HTML representation is unable to render, please try loading this page with nbviewer.org.</b></div><div class=\"sk-container\" hidden><div class=\"sk-item\"><div class=\"sk-estimator sk-toggleable\"><input class=\"sk-toggleable__control sk-hidden--visually\" id=\"sk-estimator-id-2\" type=\"checkbox\" checked><label for=\"sk-estimator-id-2\" class=\"sk-toggleable__label sk-toggleable__label-arrow\">DecisionTreeClassifier</label><div class=\"sk-toggleable__content\"><pre>DecisionTreeClassifier()</pre></div></div></div></div></div>"
            ]
          },
          "metadata": {},
          "execution_count": 32
        }
      ]
    },
    {
      "cell_type": "code",
      "source": [
        "Y_hat = model.predict(X_test)"
      ],
      "metadata": {
        "id": "cDbaWQsf1u6n"
      },
      "execution_count": 33,
      "outputs": []
    },
    {
      "cell_type": "code",
      "source": [
        "Y_pred = score_transform.inverse_transform(Y_hat)\n",
        "Y_target = score_transform.inverse_transform(Y_test)"
      ],
      "metadata": {
        "id": "CN7_CdRH11Kk"
      },
      "execution_count": 34,
      "outputs": []
    },
    {
      "cell_type": "code",
      "source": [
        "\n",
        "error = mean_squared_error(Y_pred, Y_target)\n",
        "error"
      ],
      "metadata": {
        "colab": {
          "base_uri": "https://localhost:8080/"
        },
        "id": "mHVVPvw02kDN",
        "outputId": "f4c290f2-f5ee-42a5-c975-3dde6ad2d2c4"
      },
      "execution_count": 35,
      "outputs": [
        {
          "output_type": "execute_result",
          "data": {
            "text/plain": [
              "35.78"
            ]
          },
          "metadata": {},
          "execution_count": 35
        }
      ]
    },
    {
      "cell_type": "code",
      "source": [
        "list(zip(Y_pred, Y_target.values.flatten()))"
      ],
      "metadata": {
        "colab": {
          "base_uri": "https://localhost:8080/"
        },
        "id": "V2tQz4K-Egw5",
        "outputId": "46d16b8f-b605-459a-cf3d-dd761d03701f"
      },
      "execution_count": 38,
      "outputs": [
        {
          "output_type": "execute_result",
          "data": {
            "text/plain": [
              "[(55, 49),\n",
              " (75, 83),\n",
              " (50, 64),\n",
              " (76, 80),\n",
              " (78, 73),\n",
              " (74, 80),\n",
              " (74, 73),\n",
              " (76, 86),\n",
              " (52, 57),\n",
              " (47, 57),\n",
              " (56, 64),\n",
              " (58, 62),\n",
              " (66, 64),\n",
              " (60, 67),\n",
              " (86, 91),\n",
              " (67, 64),\n",
              " (63, 76),\n",
              " (71, 65),\n",
              " (87, 92),\n",
              " (39, 43),\n",
              " (66, 68),\n",
              " (47, 45),\n",
              " (68, 67),\n",
              " (47, 42),\n",
              " (73, 64),\n",
              " (68, 71),\n",
              " (53, 51),\n",
              " (78, 76),\n",
              " (42, 52),\n",
              " (55, 57),\n",
              " (86, 79),\n",
              " (67, 74),\n",
              " (94, 92),\n",
              " (72, 67),\n",
              " (78, 69),\n",
              " (94, 96),\n",
              " (73, 63),\n",
              " (76, 61),\n",
              " (59, 66),\n",
              " (93, 100),\n",
              " (65, 55),\n",
              " (78, 74),\n",
              " (64, 63),\n",
              " (87, 88),\n",
              " (50, 58),\n",
              " (76, 73),\n",
              " (60, 58),\n",
              " (54, 67),\n",
              " (46, 48),\n",
              " (63, 66),\n",
              " (78, 78),\n",
              " (52, 58),\n",
              " (64, 61),\n",
              " (27, 38),\n",
              " (76, 76),\n",
              " (83, 73),\n",
              " (47, 53),\n",
              " (43, 43),\n",
              " (62, 70),\n",
              " (76, 71),\n",
              " (37, 34),\n",
              " (51, 56),\n",
              " (81, 86),\n",
              " (70, 68),\n",
              " (67, 62),\n",
              " (46, 51),\n",
              " (89, 79),\n",
              " (65, 72),\n",
              " (91, 98),\n",
              " (100, 100),\n",
              " (74, 71),\n",
              " (44, 55),\n",
              " (82, 80),\n",
              " (48, 54),\n",
              " (58, 52),\n",
              " (50, 54),\n",
              " (51, 47),\n",
              " (84, 80),\n",
              " (88, 88),\n",
              " (62, 60),\n",
              " (68, 74),\n",
              " (77, 65),\n",
              " (75, 73),\n",
              " (63, 47),\n",
              " (84, 82),\n",
              " (64, 66),\n",
              " (42, 42),\n",
              " (59, 70),\n",
              " (73, 77),\n",
              " (76, 80),\n",
              " (82, 89),\n",
              " (77, 80),\n",
              " (63, 70),\n",
              " (79, 80),\n",
              " (78, 74),\n",
              " (71, 80),\n",
              " (74, 75),\n",
              " (61, 61),\n",
              " (39, 40),\n",
              " (95, 87),\n",
              " (95, 100),\n",
              " (54, 54),\n",
              " (89, 80),\n",
              " (55, 53),\n",
              " (76, 74),\n",
              " (39, 43),\n",
              " (56, 47),\n",
              " (66, 60),\n",
              " (66, 65),\n",
              " (70, 70),\n",
              " (70, 70),\n",
              " (77, 77),\n",
              " (83, 82),\n",
              " (82, 82),\n",
              " (91, 93),\n",
              " (80, 73),\n",
              " (72, 74),\n",
              " (63, 68),\n",
              " (30, 10),\n",
              " (78, 80),\n",
              " (67, 62),\n",
              " (77, 72),\n",
              " (62, 61),\n",
              " (77, 77),\n",
              " (95, 95),\n",
              " (82, 90),\n",
              " (65, 64),\n",
              " (92, 93),\n",
              " (64, 68),\n",
              " (80, 72),\n",
              " (62, 55),\n",
              " (74, 75),\n",
              " (80, 76),\n",
              " (79, 76),\n",
              " (37, 34),\n",
              " (72, 76),\n",
              " (51, 60),\n",
              " (60, 57),\n",
              " (65, 70),\n",
              " (68, 77),\n",
              " (68, 64),\n",
              " (71, 70),\n",
              " (64, 72),\n",
              " (67, 59),\n",
              " (77, 81),\n",
              " (56, 60),\n",
              " (72, 77),\n",
              " (56, 54),\n",
              " (45, 51),\n",
              " (50, 55),\n",
              " (63, 58),\n",
              " (69, 75),\n",
              " (75, 74),\n",
              " (88, 82),\n",
              " (83, 75),\n",
              " (71, 71),\n",
              " (51, 49),\n",
              " (68, 59),\n",
              " (49, 51),\n",
              " (61, 66),\n",
              " (70, 67),\n",
              " (66, 58),\n",
              " (33, 33),\n",
              " (60, 54),\n",
              " (67, 73),\n",
              " (67, 66),\n",
              " (91, 84),\n",
              " (15, 19),\n",
              " (70, 69),\n",
              " (38, 46),\n",
              " (73, 68),\n",
              " (52, 56),\n",
              " (27, 27),\n",
              " (62, 67),\n",
              " (95, 88),\n",
              " (48, 52),\n",
              " (39, 43),\n",
              " (79, 75),\n",
              " (85, 85),\n",
              " (49, 50),\n",
              " (82, 87),\n",
              " (62, 72),\n",
              " (81, 84),\n",
              " (67, 59),\n",
              " (41, 44),\n",
              " (66, 66),\n",
              " (51, 45),\n",
              " (53, 47),\n",
              " (100, 99),\n",
              " (58, 46),\n",
              " (55, 52),\n",
              " (47, 41),\n",
              " (59, 64),\n",
              " (50, 54),\n",
              " (68, 73),\n",
              " (38, 50),\n",
              " (69, 64),\n",
              " (83, 75),\n",
              " (80, 73),\n",
              " (66, 60)]"
            ]
          },
          "metadata": {},
          "execution_count": 38
        }
      ]
    },
    {
      "cell_type": "code",
      "source": [],
      "metadata": {
        "id": "OVrFBjD7EpcE"
      },
      "execution_count": null,
      "outputs": []
    }
  ]
}