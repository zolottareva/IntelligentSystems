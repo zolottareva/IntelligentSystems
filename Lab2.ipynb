{
  "nbformat": 4,
  "nbformat_minor": 0,
  "metadata": {
    "colab": {
      "provenance": []
    },
    "kernelspec": {
      "name": "python3",
      "display_name": "Python 3"
    },
    "language_info": {
      "name": "python"
    }
  },
  "cells": [
    {
      "cell_type": "code",
      "execution_count": null,
      "metadata": {
        "id": "47QZaEeGvMxG"
      },
      "outputs": [],
      "source": [
        "import numpy as np\n",
        "import random"
      ]
    },
    {
      "cell_type": "code",
      "source": [
        "def task_1_np(n):\n",
        "    arr = np.diagflat(np.arange(n + 1) + 1)\n",
        "    return arr\n",
        "\n",
        "def task_1_py(n):\n",
        "    arr = [\n",
        "        [i + 1 if i == j else 0 for i in range(n + 1)]\n",
        "        for j in range(n + 1)\n",
        "    ]\n",
        "    return arr\n",
        "\n",
        "%timeit task_1_np(200)\n",
        "%timeit task_1_py(200)"
      ],
      "metadata": {
        "colab": {
          "base_uri": "https://localhost:8080/"
        },
        "id": "8u7BcD4_vgVB",
        "outputId": "61b9a217-ae22-43d8-c84b-95fdc35a244e"
      },
      "execution_count": null,
      "outputs": [
        {
          "output_type": "stream",
          "name": "stdout",
          "text": [
            "21.1 µs ± 1.38 µs per loop (mean ± std. dev. of 7 runs, 10000 loops each)\n",
            "3.67 ms ± 1.15 ms per loop (mean ± std. dev. of 7 runs, 100 loops each)\n"
          ]
        }
      ]
    },
    {
      "cell_type": "markdown",
      "source": [
        "# Numpy is 18x faster"
      ],
      "metadata": {
        "id": "ecN3PmvBwtoc"
      }
    },
    {
      "cell_type": "code",
      "source": [
        "def task_2_np(n):\n",
        "    arr = np.zeros((n, n))\n",
        "    arr.flat[::2] = 1\n",
        "    return arr\n",
        "\n",
        "def task_2_py(n):\n",
        "    arr = [\n",
        "        [(i % 2 + j % 2 + 1) % 2 for i in range(n)]\n",
        "        for j in range(n)\n",
        "    ]\n",
        "    return arr\n",
        "\n",
        "%timeit task_2_np(200)\n",
        "%timeit task_2_py(200)"
      ],
      "metadata": {
        "colab": {
          "base_uri": "https://localhost:8080/"
        },
        "id": "iQxZi6P1vPfE",
        "outputId": "495bb69f-ac43-4317-ee7b-3858d8e9e50b"
      },
      "execution_count": null,
      "outputs": [
        {
          "output_type": "stream",
          "name": "stdout",
          "text": [
            "226 µs ± 5.79 µs per loop (mean ± std. dev. of 7 runs, 1000 loops each)\n",
            "6.03 ms ± 179 µs per loop (mean ± std. dev. of 7 runs, 100 loops each)\n"
          ]
        }
      ]
    },
    {
      "cell_type": "markdown",
      "source": [],
      "metadata": {
        "id": "8lumSoObwrj6"
      }
    },
    {
      "cell_type": "markdown",
      "source": [
        "# Numpy is 21x faster"
      ],
      "metadata": {
        "id": "pQbQA4G2vcro"
      }
    },
    {
      "cell_type": "code",
      "source": [
        "def task_3_np(n, m, r, c):\n",
        "    arr = np.ones((n, m), int)\n",
        "    arr[r] = 0\n",
        "    arr[:, c] = 0\n",
        "    return arr\n",
        "\n",
        "def task_3_py(n, m, r, c):\n",
        "    arr = [\n",
        "        [0 if j == r or i == c else 1 for i in range(n)]\n",
        "        for j in range(m)\n",
        "    ]\n",
        "    return arr\n",
        "\n",
        "values = 6, 7, 2, 3\n",
        "\n",
        "%timeit task_3_np(*values)\n",
        "%timeit task_3_py(*values)"
      ],
      "metadata": {
        "colab": {
          "base_uri": "https://localhost:8080/"
        },
        "id": "A7wyCTnDvb_W",
        "outputId": "d538ddfc-06c5-4ae1-c29d-5f7d72c993e2"
      },
      "execution_count": null,
      "outputs": [
        {
          "output_type": "stream",
          "name": "stdout",
          "text": [
            "5.27 µs ± 1.47 µs per loop (mean ± std. dev. of 7 runs, 100000 loops each)\n",
            "7.89 µs ± 1.56 µs per loop (mean ± std. dev. of 7 runs, 100000 loops each)\n"
          ]
        }
      ]
    },
    {
      "cell_type": "markdown",
      "source": [
        "# Numpy is 3x faster"
      ],
      "metadata": {
        "id": "Z-nxHpL9vcRC"
      }
    },
    {
      "cell_type": "code",
      "source": [
        "def task_3_np(n, m):\n",
        "    arr = np.zeros((n, m), int)\n",
        "    arr[0] = np.arange(m)\n",
        "    return arr\n",
        "\n",
        "def task_3_py(n, m):\n",
        "    arr = [\n",
        "        [i if j == 0 else 0 for i in range(m)]\n",
        "        for j in range(n)\n",
        "    ]\n",
        "    return arr\n",
        "\n",
        "values = 6, 3\n",
        "\n",
        "%timeit task_3_np(*values)\n",
        "%timeit task_3_py(*values)"
      ],
      "metadata": {
        "colab": {
          "base_uri": "https://localhost:8080/"
        },
        "id": "NEQQqwgWxJQ7",
        "outputId": "33d40a74-ea5a-4f4d-d923-4bf01b9fabee"
      },
      "execution_count": null,
      "outputs": [
        {
          "output_type": "stream",
          "name": "stdout",
          "text": [
            "1.9 µs ± 524 ns per loop (mean ± std. dev. of 7 runs, 1000000 loops each)\n",
            "5.19 µs ± 1.9 µs per loop (mean ± std. dev. of 7 runs, 100000 loops each)\n"
          ]
        }
      ]
    },
    {
      "cell_type": "markdown",
      "source": [
        "# Numpy is 2x Faster"
      ],
      "metadata": {
        "id": "f2yOHothxxI9"
      }
    },
    {
      "cell_type": "code",
      "source": [
        "def task_6_np(arr):\n",
        "    arr = np.array(arr)\n",
        "    arr[arr != 0] = -1\n",
        "    return arr\n",
        "\n",
        "def task_6_py(arr):\n",
        "    arr = [a if a == 0 else -1 for a in arr]\n",
        "    return arr\n",
        "\n",
        "values = [6, 3, 5, 8, 3, 0, 3, 0, 0, 0, 5] * 10\n",
        "\n",
        "%timeit task_6_np(values)\n",
        "%timeit task_6_py(values)"
      ],
      "metadata": {
        "colab": {
          "base_uri": "https://localhost:8080/"
        },
        "id": "x7-Jn0dVxZ34",
        "outputId": "6348fc32-6673-4503-a3e7-15c01773d9fd"
      },
      "execution_count": null,
      "outputs": [
        {
          "output_type": "stream",
          "name": "stdout",
          "text": [
            "12.2 µs ± 1.98 µs per loop (mean ± std. dev. of 7 runs, 100000 loops each)\n",
            "7.23 µs ± 151 ns per loop (mean ± std. dev. of 7 runs, 100000 loops each)\n"
          ]
        }
      ]
    },
    {
      "cell_type": "markdown",
      "source": [
        "# python is 1.3X Faster"
      ],
      "metadata": {
        "id": "52SsOLM9yUSA"
      }
    },
    {
      "cell_type": "code",
      "source": [
        "def task_8_np(arr):\n",
        "    arr = np.array(arr)\n",
        "    zeros = (arr == 0).sum()\n",
        "    return zeros, arr.size - zeros\n",
        "\n",
        "def task_8_py(arr):\n",
        "    nonzero = sum(bool(a) for a in arr)\n",
        "    return len(arr) - nonzero, nonzero\n",
        "\n",
        "values = [6, 3, 5, 8, 3, 0, 3, 0, 0, 0, 5] * 10\n",
        "\n",
        "%timeit task_8_np(values)\n",
        "%timeit task_8_py(values)"
      ],
      "metadata": {
        "colab": {
          "base_uri": "https://localhost:8080/"
        },
        "id": "7034LTfVxaKN",
        "outputId": "b19d6326-e163-4b43-f99c-b98435e07626"
      },
      "execution_count": null,
      "outputs": [
        {
          "output_type": "stream",
          "name": "stdout",
          "text": [
            "15.4 µs ± 2.82 µs per loop (mean ± std. dev. of 7 runs, 100000 loops each)\n",
            "13.9 µs ± 3.12 µs per loop (mean ± std. dev. of 7 runs, 100000 loops each)\n"
          ]
        }
      ]
    },
    {
      "cell_type": "markdown",
      "source": [
        "# python is 1.03X Faster"
      ],
      "metadata": {
        "id": "b4addbOvzL88"
      }
    },
    {
      "cell_type": "code",
      "source": [
        "def task_11_np(n):\n",
        "    arr = np.ones((n, n))\n",
        "    arr[[0, -1]] = 0\n",
        "    arr[:, [0, -1]] = 0\n",
        "    return arr\n",
        "\n",
        "def task_11_py(n):\n",
        "    arr = [\n",
        "        [0 if j in (0, n - 1) or i in (0, n - 1) else 1 for i in range(n)]\n",
        "        for j in range(n)\n",
        "    ]\n",
        "    return arr\n",
        "\n",
        "%timeit task_11_np(100)\n",
        "%timeit task_11_py(100)"
      ],
      "metadata": {
        "colab": {
          "base_uri": "https://localhost:8080/"
        },
        "id": "9_cYU_5AzJG6",
        "outputId": "38a493ee-9235-446f-a6b6-fef667dd264c"
      },
      "execution_count": null,
      "outputs": [
        {
          "output_type": "stream",
          "name": "stdout",
          "text": [
            "14.4 µs ± 2.9 µs per loop (mean ± std. dev. of 7 runs, 100000 loops each)\n",
            "2.27 ms ± 40.6 µs per loop (mean ± std. dev. of 7 runs, 100 loops each)\n"
          ]
        }
      ]
    },
    {
      "cell_type": "markdown",
      "source": [
        "# Nnumpy is 57x Faster"
      ],
      "metadata": {
        "id": "-u510TWnz9to"
      }
    },
    {
      "cell_type": "code",
      "source": [
        "def task_20_np(n):\n",
        "    arr = np.random.rand(n)\n",
        "    arr[arr.argmax()] = 0\n",
        "    return arr\n",
        "\n",
        "def task_20_py(n):\n",
        "    arr = [random.random() for _ in range(n)]\n",
        "    arr[arr.index(max(arr))] = 0 \n",
        "    return arr\n",
        "\n",
        "%timeit task_20_np(100)\n",
        "%timeit task_20_py(100)"
      ],
      "metadata": {
        "colab": {
          "base_uri": "https://localhost:8080/"
        },
        "id": "WfxTxLcKzdwW",
        "outputId": "7c25ed52-195f-4f1e-9047-94542cee157d"
      },
      "execution_count": null,
      "outputs": [
        {
          "output_type": "stream",
          "name": "stdout",
          "text": [
            "3.15 µs ± 301 ns per loop (mean ± std. dev. of 7 runs, 100000 loops each)\n",
            "16.9 µs ± 4.18 µs per loop (mean ± std. dev. of 7 runs, 100000 loops each)\n"
          ]
        }
      ]
    },
    {
      "cell_type": "markdown",
      "source": [
        "# Numpy is 3x Faster"
      ],
      "metadata": {
        "id": "PAJoE4_Jz9ED"
      }
    },
    {
      "cell_type": "code",
      "source": [
        "def task_21_np(n, m):\n",
        "    arr = np.random.randint(0, m + 1, size=(n, n))\n",
        "    mks = arr.max()\n",
        "    arr[arr == mks] = -mks\n",
        "    return arr\n",
        "\n",
        "def task_21_py(n, m):\n",
        "    arr = [[random.randint(0, m) for _ in range(n)] for _ in range(n)]\n",
        "    max_ = max(max(e) for e in arr)\n",
        "    arr = [\n",
        "        [k if k != max_ else -k for k in r]\n",
        "        for r in arr\n",
        "    ]\n",
        "    return arr\n",
        "\n",
        "%timeit task_21_np(100, 100)\n",
        "%timeit task_21_py(100, 100)"
      ],
      "metadata": {
        "colab": {
          "base_uri": "https://localhost:8080/"
        },
        "id": "ZZszZMLKhTj-",
        "outputId": "fe89f71b-01f2-4b86-d744-3801d686193d"
      },
      "execution_count": null,
      "outputs": [
        {
          "output_type": "stream",
          "name": "stdout",
          "text": [
            "211 µs ± 40.2 µs per loop (mean ± std. dev. of 7 runs, 1000 loops each)\n",
            "19.4 ms ± 912 µs per loop (mean ± std. dev. of 7 runs, 10 loops each)\n"
          ]
        }
      ]
    },
    {
      "cell_type": "markdown",
      "source": [
        "# Numpy is 110x faster"
      ],
      "metadata": {
        "id": "MtjhxMr2ierF"
      }
    },
    {
      "cell_type": "code",
      "source": [
        "# Task 2\n",
        "def solve(matrix):\n",
        "    b = matrix[:, -1]\n",
        "    det = matrix[:, :-1]\n",
        "    dets = []\n",
        "    for i in range(matrix.shape[0]):\n",
        "        det_i = det.copy()\n",
        "        det_i[:, i] = b\n",
        "        dets.append(det_i)\n",
        "    det = np.linalg.det(det)\n",
        "    dets = [np.linalg.det(d) for d in dets]\n",
        "    solution = [d / det for d in dets]\n",
        "    return np.array(solution)\n"
      ],
      "metadata": {
        "id": "_i6F7VdejeH5"
      },
      "execution_count": null,
      "outputs": []
    },
    {
      "cell_type": "code",
      "source": [
        "matrix = [\n",
        "    [4, 1, 0, -1, -9],\n",
        "    [1, -3, 4, 0, 7],\n",
        "    [0, 3, -2, 4, 12],\n",
        "    [1, 0, 2, 4, 12]\n",
        "]\n",
        "matrix = np.array(matrix)"
      ],
      "metadata": {
        "id": "5o5Yl5FLjtEi"
      },
      "execution_count": null,
      "outputs": []
    },
    {
      "cell_type": "code",
      "source": [
        "assert np.allclose(solve(matrix), np.linalg.solve(matrix[:, :-1], matrix[:, -1]))\n",
        "inv = np.linalg.inv(matrix[:, :-1])\n",
        "inv"
      ],
      "metadata": {
        "colab": {
          "base_uri": "https://localhost:8080/"
        },
        "id": "eDwGivRfl9eH",
        "outputId": "ee7ed26d-c49f-4df6-efa7-b2b7d3defba9"
      },
      "execution_count": null,
      "outputs": [
        {
          "output_type": "execute_result",
          "data": {
            "text/plain": [
              "True"
            ]
          },
          "metadata": {},
          "execution_count": 33
        }
      ]
    },
    {
      "cell_type": "code",
      "source": [
        "# Task 3\n",
        "\n",
        "def mat_mat_(a, b, op):\n",
        "    c = []\n",
        "    for i in range(len(a)):\n",
        "        c.append([])\n",
        "        for j in range(len(a[0])):\n",
        "            c[-1].append(op(a[i][j], b[i][j]))\n",
        "    return c\n",
        "\n",
        "def mult_mat_mat(a, b):\n",
        "    return mat_mat_(a, b, lambda c, d: c * d)\n",
        "\n",
        "def sum_mat_mat(a, b):\n",
        "    return mat_mat_(a, b, lambda c, d: c + d)\n",
        "\n",
        "def mult_mat_scal(a, s):\n",
        "    return [[i * s for i in j] for j in a]\n",
        "\n",
        "def solve_np(a, b):\n",
        "    return 3 * (a ** 2 + b ** 2) - 2 * a * b\n",
        "\n",
        "def solve_py(a, b):\n",
        "    return sum_mat_mat(mult_mat_scal(sum_mat_mat(mult_mat_mat(a, a), mult_mat_mat(b, b)), 3), mult_mat_scal(mult_mat_mat(a, b), -2))"
      ],
      "metadata": {
        "id": "yaHPXxByl-p5"
      },
      "execution_count": null,
      "outputs": []
    },
    {
      "cell_type": "code",
      "source": [
        "A = [\n",
        "    [4, 2, 1],\n",
        "    [3, -2, 0],\n",
        "    [0, 1, 2]\n",
        "]\n",
        "B = [\n",
        "    [2, 0, 2],\n",
        "    [5, -7, -2],\n",
        "    [1, 0, -1]\n",
        "]\n",
        "A_np, B_np = np.array(A), np.array(B)\n",
        "np.allclose(solve_py(A, B), solve_np(A_np, B_np))"
      ],
      "metadata": {
        "colab": {
          "base_uri": "https://localhost:8080/"
        },
        "id": "4N45vrvOmZZg",
        "outputId": "dfba22ed-810f-483c-c4af-0d16a692d101"
      },
      "execution_count": null,
      "outputs": [
        {
          "output_type": "execute_result",
          "data": {
            "text/plain": [
              "True"
            ]
          },
          "metadata": {},
          "execution_count": 67
        }
      ]
    },
    {
      "cell_type": "code",
      "source": [
        "%timeit solve_np(A_np, B_np)\n",
        "%timeit solve_py(A, B)"
      ],
      "metadata": {
        "colab": {
          "base_uri": "https://localhost:8080/"
        },
        "id": "Iw4JHsL2p8pE",
        "outputId": "940185b9-7bb6-4ddb-e279-b70d529423bb"
      },
      "execution_count": null,
      "outputs": [
        {
          "output_type": "stream",
          "name": "stdout",
          "text": [
            "6.96 µs ± 2.65 µs per loop (mean ± std. dev. of 7 runs, 100000 loops each)\n",
            "29 µs ± 7.28 µs per loop (mean ± std. dev. of 7 runs, 10000 loops each)\n"
          ]
        }
      ]
    },
    {
      "cell_type": "markdown",
      "source": [
        "# Numpy is 4.2X faster "
      ],
      "metadata": {
        "id": "saToc31IrpPR"
      }
    }
  ]
}